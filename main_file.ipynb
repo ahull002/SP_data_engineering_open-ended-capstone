{
 "cells": [
  {
   "cell_type": "code",
   "execution_count": null,
   "id": "pediatric-prior",
   "metadata": {},
   "outputs": [],
   "source": [
    "import src"
   ]
  },
  {
   "cell_type": "code",
   "execution_count": null,
   "id": "sharp-reminder",
   "metadata": {},
   "outputs": [],
   "source": [
    "from src.main1_extracter import run"
   ]
  },
  {
   "cell_type": "code",
   "execution_count": null,
   "id": "political-council",
   "metadata": {},
   "outputs": [],
   "source": [
    "# Edit location address in main1_extracter from ../data/ to data/ as this file is at the top\n",
    "run()"
   ]
  },
  {
   "cell_type": "code",
   "execution_count": null,
   "id": "balanced-interim",
   "metadata": {},
   "outputs": [],
   "source": []
  },
  {
   "cell_type": "code",
   "execution_count": null,
   "id": "welcome-sheffield",
   "metadata": {},
   "outputs": [],
   "source": []
  }
 ],
 "metadata": {
  "kernelspec": {
   "display_name": "Python 3",
   "language": "python",
   "name": "python3"
  },
  "language_info": {
   "codemirror_mode": {
    "name": "ipython",
    "version": 3
   },
   "file_extension": ".py",
   "mimetype": "text/x-python",
   "name": "python",
   "nbconvert_exporter": "python",
   "pygments_lexer": "ipython3",
   "version": "3.8.8"
  }
 },
 "nbformat": 4,
 "nbformat_minor": 5
}
