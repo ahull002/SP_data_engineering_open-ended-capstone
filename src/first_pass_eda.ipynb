{
 "cells": [
  {
   "cell_type": "code",
   "execution_count": 2,
   "metadata": {},
   "outputs": [],
   "source": [
    "# Load libraries\n",
    "from pandas_profiling import ProfileReport\n",
    "import pandas as pd\n",
    "import matplotlib.pyplot as plt\n",
    "import numpy as np\n",
    "import seaborn as sns\n",
    "from IPython.core.display import HTML\n",
    "\n",
    "# Load settings\n",
    "pd.set_option('display.max_rows', 2000)\n",
    "pd.set_option('display.max_columns', 500)\n",
    "pd.set_option('display.width', 1000)\n",
    "\n",
    "# Load data viz imports\n",
    "plt.style.use('ggplot')\n",
    "%matplotlib inline"
   ]
  },
  {
   "cell_type": "code",
   "execution_count": 15,
   "metadata": {},
   "outputs": [
    {
     "name": "stderr",
     "output_type": "stream",
     "text": [
      "Skipping line 170: Expected 18 fields in line 170, saw 19\n",
      "Skipping line 171: Expected 18 fields in line 171, saw 19\n",
      "Skipping line 172: Expected 18 fields in line 172, saw 19\n",
      "Skipping line 173: Expected 18 fields in line 173, saw 19\n",
      "Skipping line 174: Expected 18 fields in line 174, saw 19\n",
      "Skipping line 175: Expected 18 fields in line 175, saw 19\n",
      "Skipping line 176: Expected 18 fields in line 176, saw 19\n",
      "Skipping line 177: Expected 18 fields in line 177, saw 19\n",
      "Skipping line 178: Expected 18 fields in line 178, saw 19\n",
      "Skipping line 179: Expected 18 fields in line 179, saw 19\n",
      "Skipping line 180: Expected 18 fields in line 180, saw 19\n",
      "Skipping line 181: Expected 18 fields in line 181, saw 19\n",
      "Skipping line 182: Expected 18 fields in line 182, saw 19\n",
      "Skipping line 183: Expected 18 fields in line 183, saw 19\n",
      "Skipping line 184: Expected 18 fields in line 184, saw 19\n",
      "Skipping line 185: Expected 18 fields in line 185, saw 19\n",
      "Skipping line 186: Expected 18 fields in line 186, saw 19\n",
      "Skipping line 187: Expected 18 fields in line 187, saw 19\n",
      "Skipping line 188: Expected 18 fields in line 188, saw 19\n",
      "Skipping line 189: Expected 18 fields in line 189, saw 19\n",
      "Skipping line 190: Expected 18 fields in line 190, saw 19\n",
      "Skipping line 191: Expected 18 fields in line 191, saw 19\n",
      "Skipping line 192: Expected 18 fields in line 192, saw 19\n",
      "Skipping line 193: Expected 18 fields in line 193, saw 19\n",
      "Skipping line 194: Expected 18 fields in line 194, saw 19\n",
      "Skipping line 195: Expected 18 fields in line 195, saw 19\n",
      "Skipping line 196: Expected 18 fields in line 196, saw 19\n",
      "Skipping line 197: Expected 18 fields in line 197, saw 19\n",
      "Skipping line 198: Expected 18 fields in line 198, saw 19\n",
      "Skipping line 199: Expected 18 fields in line 199, saw 19\n",
      "Skipping line 200: Expected 18 fields in line 200, saw 19\n",
      "Skipping line 201: Expected 18 fields in line 201, saw 19\n",
      "Skipping line 202: Expected 18 fields in line 202, saw 19\n",
      "Skipping line 203: Expected 18 fields in line 203, saw 19\n",
      "Skipping line 204: Expected 18 fields in line 204, saw 19\n",
      "Skipping line 205: Expected 18 fields in line 205, saw 19\n",
      "Skipping line 206: Expected 18 fields in line 206, saw 19\n",
      "Skipping line 207: Expected 18 fields in line 207, saw 19\n",
      "Skipping line 208: Expected 18 fields in line 208, saw 19\n",
      "Skipping line 209: Expected 18 fields in line 209, saw 19\n",
      "Skipping line 210: Expected 18 fields in line 210, saw 19\n",
      "Skipping line 211: Expected 18 fields in line 211, saw 19\n",
      "Skipping line 212: Expected 18 fields in line 212, saw 19\n",
      "Skipping line 213: Expected 18 fields in line 213, saw 19\n",
      "Skipping line 214: Expected 18 fields in line 214, saw 19\n",
      "Skipping line 215: Expected 18 fields in line 215, saw 19\n",
      "Skipping line 216: Expected 18 fields in line 216, saw 19\n",
      "Skipping line 217: Expected 18 fields in line 217, saw 19\n",
      "Skipping line 72: Expected 22 fields in line 72, saw 23\n",
      "Skipping line 73: Expected 22 fields in line 73, saw 23\n",
      "Skipping line 74: Expected 22 fields in line 74, saw 23\n",
      "Skipping line 75: Expected 22 fields in line 75, saw 23\n",
      "Skipping line 76: Expected 22 fields in line 76, saw 23\n",
      "Skipping line 77: Expected 22 fields in line 77, saw 23\n",
      "Skipping line 78: Expected 22 fields in line 78, saw 23\n",
      "Skipping line 79: Expected 22 fields in line 79, saw 23\n",
      "Skipping line 80: Expected 22 fields in line 80, saw 23\n",
      "Skipping line 81: Expected 22 fields in line 81, saw 23\n",
      "Skipping line 82: Expected 22 fields in line 82, saw 23\n",
      "Skipping line 83: Expected 22 fields in line 83, saw 23\n",
      "Skipping line 50: Expected 3 fields in line 50, saw 5\n",
      "Skipping line 51: Expected 3 fields in line 51, saw 5\n",
      "Skipping line 52: Expected 3 fields in line 52, saw 5\n",
      "Skipping line 53: Expected 3 fields in line 53, saw 5\n",
      "Skipping line 54: Expected 3 fields in line 54, saw 5\n",
      "Skipping line 55: Expected 3 fields in line 55, saw 5\n",
      "Skipping line 56: Expected 3 fields in line 56, saw 5\n",
      "Skipping line 57: Expected 3 fields in line 57, saw 5\n",
      "Skipping line 58: Expected 3 fields in line 58, saw 5\n",
      "Skipping line 59: Expected 3 fields in line 59, saw 5\n",
      "Skipping line 60: Expected 3 fields in line 60, saw 5\n",
      "Skipping line 61: Expected 3 fields in line 61, saw 5\n",
      "Skipping line 62: Expected 3 fields in line 62, saw 6\n",
      "Skipping line 63: Expected 3 fields in line 63, saw 6\n",
      "Skipping line 64: Expected 3 fields in line 64, saw 6\n",
      "Skipping line 65: Expected 3 fields in line 65, saw 6\n",
      "Skipping line 66: Expected 3 fields in line 66, saw 6\n",
      "Skipping line 67: Expected 3 fields in line 67, saw 6\n",
      "Skipping line 68: Expected 3 fields in line 68, saw 6\n",
      "Skipping line 69: Expected 3 fields in line 69, saw 6\n",
      "Skipping line 70: Expected 3 fields in line 70, saw 6\n",
      "Skipping line 71: Expected 3 fields in line 71, saw 6\n",
      "Skipping line 72: Expected 3 fields in line 72, saw 6\n",
      "Skipping line 73: Expected 3 fields in line 73, saw 6\n",
      "Skipping line 74: Expected 3 fields in line 74, saw 7\n",
      "Skipping line 75: Expected 3 fields in line 75, saw 7\n",
      "Skipping line 76: Expected 3 fields in line 76, saw 7\n",
      "Skipping line 77: Expected 3 fields in line 77, saw 7\n",
      "Skipping line 78: Expected 3 fields in line 78, saw 7\n",
      "Skipping line 79: Expected 3 fields in line 79, saw 7\n",
      "Skipping line 80: Expected 3 fields in line 80, saw 7\n",
      "Skipping line 81: Expected 3 fields in line 81, saw 7\n",
      "Skipping line 82: Expected 3 fields in line 82, saw 7\n",
      "Skipping line 83: Expected 3 fields in line 83, saw 7\n",
      "Skipping line 84: Expected 3 fields in line 84, saw 7\n",
      "Skipping line 85: Expected 3 fields in line 85, saw 7\n",
      "Skipping line 86: Expected 3 fields in line 86, saw 7\n",
      "Skipping line 87: Expected 3 fields in line 87, saw 7\n",
      "Skipping line 88: Expected 3 fields in line 88, saw 7\n",
      "Skipping line 89: Expected 3 fields in line 89, saw 7\n",
      "Skipping line 90: Expected 3 fields in line 90, saw 7\n",
      "Skipping line 91: Expected 3 fields in line 91, saw 7\n",
      "Skipping line 92: Expected 3 fields in line 92, saw 7\n",
      "Skipping line 93: Expected 3 fields in line 93, saw 7\n",
      "Skipping line 94: Expected 3 fields in line 94, saw 7\n",
      "Skipping line 95: Expected 3 fields in line 95, saw 7\n",
      "Skipping line 96: Expected 3 fields in line 96, saw 7\n",
      "Skipping line 97: Expected 3 fields in line 97, saw 7\n",
      "Skipping line 98: Expected 3 fields in line 98, saw 6\n",
      "Skipping line 99: Expected 3 fields in line 99, saw 6\n",
      "Skipping line 100: Expected 3 fields in line 100, saw 6\n",
      "Skipping line 101: Expected 3 fields in line 101, saw 6\n",
      "Skipping line 102: Expected 3 fields in line 102, saw 6\n",
      "Skipping line 103: Expected 3 fields in line 103, saw 6\n",
      "Skipping line 104: Expected 3 fields in line 104, saw 6\n",
      "Skipping line 105: Expected 3 fields in line 105, saw 6\n",
      "Skipping line 106: Expected 3 fields in line 106, saw 6\n",
      "Skipping line 107: Expected 3 fields in line 107, saw 6\n",
      "Skipping line 108: Expected 3 fields in line 108, saw 6\n",
      "Skipping line 109: Expected 3 fields in line 109, saw 6\n",
      "Skipping line 110: Expected 3 fields in line 110, saw 6\n",
      "Skipping line 111: Expected 3 fields in line 111, saw 6\n",
      "Skipping line 112: Expected 3 fields in line 112, saw 6\n",
      "Skipping line 113: Expected 3 fields in line 113, saw 6\n",
      "Skipping line 114: Expected 3 fields in line 114, saw 6\n",
      "Skipping line 115: Expected 3 fields in line 115, saw 6\n",
      "Skipping line 116: Expected 3 fields in line 116, saw 6\n",
      "Skipping line 117: Expected 3 fields in line 117, saw 6\n",
      "Skipping line 118: Expected 3 fields in line 118, saw 6\n",
      "Skipping line 119: Expected 3 fields in line 119, saw 6\n",
      "Skipping line 120: Expected 3 fields in line 120, saw 6\n",
      "Skipping line 121: Expected 3 fields in line 121, saw 6\n",
      "Skipping line 122: Expected 3 fields in line 122, saw 6\n",
      "Skipping line 123: Expected 3 fields in line 123, saw 6\n",
      "Skipping line 124: Expected 3 fields in line 124, saw 6\n",
      "Skipping line 125: Expected 3 fields in line 125, saw 6\n",
      "Skipping line 126: Expected 3 fields in line 126, saw 6\n",
      "Skipping line 127: Expected 3 fields in line 127, saw 6\n",
      "Skipping line 128: Expected 3 fields in line 128, saw 6\n",
      "Skipping line 129: Expected 3 fields in line 129, saw 6\n",
      "Skipping line 130: Expected 3 fields in line 130, saw 6\n",
      "Skipping line 131: Expected 3 fields in line 131, saw 6\n",
      "Skipping line 132: Expected 3 fields in line 132, saw 6\n",
      "Skipping line 133: Expected 3 fields in line 133, saw 6\n"
     ]
    },
    {
     "data": {
      "application/vnd.jupyter.widget-view+json": {
       "model_id": "b3d44c01e2764c40b7bd05dd2bc99715",
       "version_major": 2,
       "version_minor": 0
      },
      "text/plain": [
       "HBox(children=(HTML(value='Summarize dataset'), FloatProgress(value=0.0, max=32.0), HTML(value='')))"
      ]
     },
     "metadata": {},
     "output_type": "display_data"
    },
    {
     "name": "stdout",
     "output_type": "stream",
     "text": [
      "\n"
     ]
    },
    {
     "data": {
      "application/vnd.jupyter.widget-view+json": {
       "model_id": "68533b707bc64e2c8ea8d47f7ac59177",
       "version_major": 2,
       "version_minor": 0
      },
      "text/plain": [
       "HBox(children=(HTML(value='Generate report structure'), FloatProgress(value=0.0, max=1.0), HTML(value='')))"
      ]
     },
     "metadata": {},
     "output_type": "display_data"
    },
    {
     "name": "stdout",
     "output_type": "stream",
     "text": [
      "\n"
     ]
    },
    {
     "data": {
      "application/vnd.jupyter.widget-view+json": {
       "model_id": "3392c9b9d62f487ba0f4df2a76aad5e1",
       "version_major": 2,
       "version_minor": 0
      },
      "text/plain": [
       "HBox(children=(HTML(value='Render HTML'), FloatProgress(value=0.0, max=1.0), HTML(value='')))"
      ]
     },
     "metadata": {},
     "output_type": "display_data"
    },
    {
     "name": "stdout",
     "output_type": "stream",
     "text": [
      "\n"
     ]
    },
    {
     "data": {
      "application/vnd.jupyter.widget-view+json": {
       "model_id": "687ed90d1ce64283bb075b29db42f4f6",
       "version_major": 2,
       "version_minor": 0
      },
      "text/plain": [
       "HBox(children=(HTML(value='Export report to file'), FloatProgress(value=0.0, max=1.0), HTML(value='')))"
      ]
     },
     "metadata": {},
     "output_type": "display_data"
    },
    {
     "name": "stdout",
     "output_type": "stream",
     "text": [
      "\n"
     ]
    },
    {
     "data": {
      "application/vnd.jupyter.widget-view+json": {
       "model_id": "49759ba10d744bd7a3c215e0bc3633a8",
       "version_major": 2,
       "version_minor": 0
      },
      "text/plain": [
       "HBox(children=(HTML(value='Summarize dataset'), FloatProgress(value=0.0, max=36.0), HTML(value='')))"
      ]
     },
     "metadata": {},
     "output_type": "display_data"
    },
    {
     "name": "stdout",
     "output_type": "stream",
     "text": [
      "\n"
     ]
    },
    {
     "data": {
      "application/vnd.jupyter.widget-view+json": {
       "model_id": "ae6c15ab03a148e9ae4ad9465acdf3f4",
       "version_major": 2,
       "version_minor": 0
      },
      "text/plain": [
       "HBox(children=(HTML(value='Generate report structure'), FloatProgress(value=0.0, max=1.0), HTML(value='')))"
      ]
     },
     "metadata": {},
     "output_type": "display_data"
    },
    {
     "name": "stdout",
     "output_type": "stream",
     "text": [
      "\n"
     ]
    },
    {
     "data": {
      "application/vnd.jupyter.widget-view+json": {
       "model_id": "e04dc285a9c44274b165e70ba81f5767",
       "version_major": 2,
       "version_minor": 0
      },
      "text/plain": [
       "HBox(children=(HTML(value='Render HTML'), FloatProgress(value=0.0, max=1.0), HTML(value='')))"
      ]
     },
     "metadata": {},
     "output_type": "display_data"
    },
    {
     "name": "stdout",
     "output_type": "stream",
     "text": [
      "\n"
     ]
    },
    {
     "data": {
      "application/vnd.jupyter.widget-view+json": {
       "model_id": "8d670cb46237436e864651c238f5bb4a",
       "version_major": 2,
       "version_minor": 0
      },
      "text/plain": [
       "HBox(children=(HTML(value='Export report to file'), FloatProgress(value=0.0, max=1.0), HTML(value='')))"
      ]
     },
     "metadata": {},
     "output_type": "display_data"
    },
    {
     "name": "stdout",
     "output_type": "stream",
     "text": [
      "\n"
     ]
    },
    {
     "data": {
      "application/vnd.jupyter.widget-view+json": {
       "model_id": "0e7b4c91f02b403082e1bea2794fd690",
       "version_major": 2,
       "version_minor": 0
      },
      "text/plain": [
       "HBox(children=(HTML(value='Summarize dataset'), FloatProgress(value=0.0, max=17.0), HTML(value='')))"
      ]
     },
     "metadata": {},
     "output_type": "display_data"
    },
    {
     "name": "stdout",
     "output_type": "stream",
     "text": [
      "\n"
     ]
    },
    {
     "data": {
      "application/vnd.jupyter.widget-view+json": {
       "model_id": "053b4c3cdf1a4712a3c6a089b4bc591a",
       "version_major": 2,
       "version_minor": 0
      },
      "text/plain": [
       "HBox(children=(HTML(value='Generate report structure'), FloatProgress(value=0.0, max=1.0), HTML(value='')))"
      ]
     },
     "metadata": {},
     "output_type": "display_data"
    },
    {
     "name": "stdout",
     "output_type": "stream",
     "text": [
      "\n"
     ]
    },
    {
     "data": {
      "application/vnd.jupyter.widget-view+json": {
       "model_id": "35567e7bd26d41e89f2b7ecaa5ae4666",
       "version_major": 2,
       "version_minor": 0
      },
      "text/plain": [
       "HBox(children=(HTML(value='Render HTML'), FloatProgress(value=0.0, max=1.0), HTML(value='')))"
      ]
     },
     "metadata": {},
     "output_type": "display_data"
    },
    {
     "name": "stdout",
     "output_type": "stream",
     "text": [
      "\n"
     ]
    },
    {
     "data": {
      "application/vnd.jupyter.widget-view+json": {
       "model_id": "c5f8633d11814c0689fea33677013250",
       "version_major": 2,
       "version_minor": 0
      },
      "text/plain": [
       "HBox(children=(HTML(value='Export report to file'), FloatProgress(value=0.0, max=1.0), HTML(value='')))"
      ]
     },
     "metadata": {},
     "output_type": "display_data"
    },
    {
     "name": "stdout",
     "output_type": "stream",
     "text": [
      "\n"
     ]
    },
    {
     "data": {
      "application/vnd.jupyter.widget-view+json": {
       "model_id": "05c946b351a64263ad6f0ab91ca4c55f",
       "version_major": 2,
       "version_minor": 0
      },
      "text/plain": [
       "HBox(children=(HTML(value='Summarize dataset'), FloatProgress(value=0.0, max=21.0), HTML(value='')))"
      ]
     },
     "metadata": {},
     "output_type": "display_data"
    },
    {
     "name": "stdout",
     "output_type": "stream",
     "text": [
      "\n"
     ]
    },
    {
     "data": {
      "application/vnd.jupyter.widget-view+json": {
       "model_id": "35c1696ce29e43b1b831e5079e391d48",
       "version_major": 2,
       "version_minor": 0
      },
      "text/plain": [
       "HBox(children=(HTML(value='Generate report structure'), FloatProgress(value=0.0, max=1.0), HTML(value='')))"
      ]
     },
     "metadata": {},
     "output_type": "display_data"
    },
    {
     "name": "stdout",
     "output_type": "stream",
     "text": [
      "\n"
     ]
    },
    {
     "data": {
      "application/vnd.jupyter.widget-view+json": {
       "model_id": "2af7ef14b0b84ddf9e4025cac667a4cd",
       "version_major": 2,
       "version_minor": 0
      },
      "text/plain": [
       "HBox(children=(HTML(value='Render HTML'), FloatProgress(value=0.0, max=1.0), HTML(value='')))"
      ]
     },
     "metadata": {},
     "output_type": "display_data"
    },
    {
     "name": "stdout",
     "output_type": "stream",
     "text": [
      "\n"
     ]
    },
    {
     "data": {
      "application/vnd.jupyter.widget-view+json": {
       "model_id": "391883512f2648d795315c227acde633",
       "version_major": 2,
       "version_minor": 0
      },
      "text/plain": [
       "HBox(children=(HTML(value='Export report to file'), FloatProgress(value=0.0, max=1.0), HTML(value='')))"
      ]
     },
     "metadata": {},
     "output_type": "display_data"
    },
    {
     "name": "stdout",
     "output_type": "stream",
     "text": [
      "\n"
     ]
    }
   ],
   "source": [
    "# Load data\n",
    "df1 = pd.read_csv(\"..\\data\\sample_yellow_tripdata.csv\",error_bad_lines=False, engine=\"python\")\n",
    "df2 = pd.read_csv(\"..\\data\\sample_green_tripdata.csv\",error_bad_lines=False, engine=\"python\")\n",
    "df3 = pd.read_csv(\"..\\data\\sample_fhv_tripdata.csv\",error_bad_lines=False, engine=\"python\")\n",
    "df4 = pd.read_csv(\"..\\data\\sample_fhvhv_tripdata.csv\",error_bad_lines=False, engine=\"python\")\n",
    "\n",
    "# Auto-build profiling report\n",
    "report1 = ProfileReport(df1)\n",
    "report2 = ProfileReport(df2)\n",
    "report3 = ProfileReport(df3)\n",
    "report4 = ProfileReport(df4)\n",
    "\n",
    "# Send reports to report folder\n",
    "report1.to_file(output_file='..\\docs\\eda_yellow_tripdata_output.html')\n",
    "report2.to_file(output_file='..\\docs\\eda_green_tripdata_output.html')\n",
    "report3.to_file(output_file='..\\docs\\eda_fhv_tripdata_output.html')\n",
    "report4.to_file(output_file='..\\docs\\eda_fhvhv_tripdata_output.html')"
   ]
  },
  {
   "cell_type": "code",
   "execution_count": null,
   "metadata": {},
   "outputs": [],
   "source": []
  }
 ],
 "metadata": {
  "kernelspec": {
   "display_name": "Python 3",
   "language": "python",
   "name": "python3"
  },
  "language_info": {
   "codemirror_mode": {
    "name": "ipython",
    "version": 3
   },
   "file_extension": ".py",
   "mimetype": "text/x-python",
   "name": "python",
   "nbconvert_exporter": "python",
   "pygments_lexer": "ipython3",
   "version": "3.8.5"
  }
 },
 "nbformat": 4,
 "nbformat_minor": 4
}
